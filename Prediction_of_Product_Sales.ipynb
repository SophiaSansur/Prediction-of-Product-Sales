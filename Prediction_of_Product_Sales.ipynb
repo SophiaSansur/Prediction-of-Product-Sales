{
  "nbformat": 4,
  "nbformat_minor": 0,
  "metadata": {
    "colab": {
      "provenance": [],
      "authorship_tag": "ABX9TyPEgYAdhdRV0+LQTyi9Omjd",
      "include_colab_link": true
    },
    "kernelspec": {
      "name": "python3",
      "display_name": "Python 3"
    },
    "language_info": {
      "name": "python"
    }
  },
  "cells": [
    {
      "cell_type": "markdown",
      "metadata": {
        "id": "view-in-github",
        "colab_type": "text"
      },
      "source": [
        "<a href=\"https://colab.research.google.com/github/SophiaSansur/Prediction-of-Product-Sales/blob/main/Prediction_of_Product_Sales.ipynb\" target=\"_parent\"><img src=\"https://colab.research.google.com/assets/colab-badge.svg\" alt=\"Open In Colab\"/></a>"
      ]
    },
    {
      "cell_type": "code",
      "execution_count": 4,
      "metadata": {
        "id": "V9_A6WNokXJX"
      },
      "outputs": [],
      "source": []
    },
    {
      "cell_type": "markdown",
      "source": [
        "# Prediction of Product Sales\n",
        "- Author: Sophia Sansur\n",
        "## Load and Inspect Data\n",
        "In [ ]:\n",
        "## Clean Data\n",
        "In [ ]:\n",
        "## Exploratory Data Analysis\n",
        "In [ ]:\n",
        "## Feature Inspection\n",
        "In [ ]:\n",
        "\n"
      ],
      "metadata": {
        "id": "4lcPihRvSO2C"
      }
    },
    {
      "cell_type": "markdown",
      "source": [],
      "metadata": {
        "id": "_Ck2dT5slC0i"
      }
    }
  ]
}